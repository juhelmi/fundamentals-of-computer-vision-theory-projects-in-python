{
 "cells": [
  {
   "cell_type": "code",
   "execution_count": 1,
   "metadata": {},
   "outputs": [],
   "source": [
    "import cv2\n",
    "import imutils"
   ]
  },
  {
   "cell_type": "code",
   "execution_count": 2,
   "metadata": {},
   "outputs": [
    {
     "ename": "AttributeError",
     "evalue": "module 'cv2' has no attribute 'TrackerCSRT_create'",
     "output_type": "error",
     "traceback": [
      "\u001b[31m---------------------------------------------------------------------------\u001b[39m",
      "\u001b[31mAttributeError\u001b[39m                            Traceback (most recent call last)",
      "\u001b[36mCell\u001b[39m\u001b[36m \u001b[39m\u001b[32mIn[2]\u001b[39m\u001b[32m, line 1\u001b[39m\n\u001b[32m----> \u001b[39m\u001b[32m1\u001b[39m TrDict = {\u001b[33m'\u001b[39m\u001b[33mcsrt\u001b[39m\u001b[33m'\u001b[39m: \u001b[43mcv2\u001b[49m\u001b[43m.\u001b[49m\u001b[43mTrackerCSRT_create\u001b[49m,\n\u001b[32m      2\u001b[39m          \u001b[33m'\u001b[39m\u001b[33mkcf\u001b[39m\u001b[33m'\u001b[39m : cv2.TrackerKCF_create,\n\u001b[32m      3\u001b[39m          \u001b[33m'\u001b[39m\u001b[33mboosting\u001b[39m\u001b[33m'\u001b[39m : cv2.TrackerBoosting_create,\n\u001b[32m      4\u001b[39m          \u001b[33m'\u001b[39m\u001b[33mmil\u001b[39m\u001b[33m'\u001b[39m: cv2.TrackerMIL_create,\n\u001b[32m      5\u001b[39m          \u001b[33m'\u001b[39m\u001b[33mtld\u001b[39m\u001b[33m'\u001b[39m: cv2.TrackerTLD_create,\n\u001b[32m      6\u001b[39m          \u001b[33m'\u001b[39m\u001b[33mmedianflow\u001b[39m\u001b[33m'\u001b[39m: cv2.TrackerMedianFlow_create,\n\u001b[32m      7\u001b[39m          \u001b[33m'\u001b[39m\u001b[33mmosse\u001b[39m\u001b[33m'\u001b[39m:cv2.TrackerMOSSE_create}\n",
      "\u001b[31mAttributeError\u001b[39m: module 'cv2' has no attribute 'TrackerCSRT_create'"
     ]
    }
   ],
   "source": [
    "TrDict = {'csrt': cv2.TrackerCSRT_create,\n",
    "         'kcf' : cv2.TrackerKCF_create,\n",
    "         'boosting' : cv2.TrackerBoosting_create,\n",
    "         'mil': cv2.TrackerMIL_create,\n",
    "         'tld': cv2.TrackerTLD_create,\n",
    "         'medianflow': cv2.TrackerMedianFlow_create,\n",
    "         'mosse':cv2.TrackerMOSSE_create}"
   ]
  },
  {
   "cell_type": "code",
   "execution_count": 3,
   "metadata": {},
   "outputs": [],
   "source": [
    "tracker = TrDict['csrt']()\n",
    "#tracker = cv2.TrackerCSRT_create()"
   ]
  },
  {
   "cell_type": "code",
   "execution_count": 4,
   "metadata": {},
   "outputs": [],
   "source": [
    "#v = cv2.VideoCapture(r'D:\\mot.mp4') # video\n",
    "v = cv2.VideoCapture(0)"
   ]
  },
  {
   "cell_type": "code",
   "execution_count": 5,
   "metadata": {},
   "outputs": [
    {
     "data": {
      "text/plain": [
       "True"
      ]
     },
     "execution_count": 5,
     "metadata": {},
     "output_type": "execute_result"
    }
   ],
   "source": [
    "ret, frame = v.read()\n",
    "frame = imutils.resize(frame,width=600)\n",
    "cv2.imshow('Frame',frame)\n",
    "bb = cv2.selectROI('Frame',frame)\n",
    "tracker.init(frame,bb)"
   ]
  },
  {
   "cell_type": "code",
   "execution_count": 6,
   "metadata": {},
   "outputs": [],
   "source": [
    "while True:\n",
    "    ret, frame = v.read()\n",
    "    if not ret:\n",
    "        break\n",
    "    frame = imutils.resize(frame,width=600)\n",
    "    (success,box) = tracker.update(frame)\n",
    "    if success:\n",
    "        (x,y,w,h) = [int(a) for a in box]\n",
    "        cv2.rectangle(frame,(x,y),(x+w,y+h),(100,255,0),2)\n",
    "    cv2.imshow('Frame',frame)\n",
    "    key = cv2.waitKey(5) & 0xFF\n",
    "    if key == ord('q'):\n",
    "        break\n",
    "v.release()\n",
    "cv2.destroyAllWindows()\n",
    "        \n",
    "    \n",
    "    "
   ]
  },
  {
   "cell_type": "code",
   "execution_count": null,
   "metadata": {},
   "outputs": [],
   "source": []
  }
 ],
 "metadata": {
  "kernelspec": {
   "display_name": "Python 3 (ipykernel)",
   "language": "python",
   "name": "python3"
  },
  "language_info": {
   "codemirror_mode": {
    "name": "ipython",
    "version": 3
   },
   "file_extension": ".py",
   "mimetype": "text/x-python",
   "name": "python",
   "nbconvert_exporter": "python",
   "pygments_lexer": "ipython3",
   "version": "3.12.3"
  }
 },
 "nbformat": 4,
 "nbformat_minor": 4
}
